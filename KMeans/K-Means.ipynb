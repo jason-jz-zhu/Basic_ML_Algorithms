{
 "cells": [
  {
   "cell_type": "code",
   "execution_count": 1,
   "metadata": {},
   "outputs": [],
   "source": [
    "from copy import deepcopy\n",
    "import numpy as np \n",
    "import pandas as pd \n",
    "from matplotlib import pyplot as plt"
   ]
  },
  {
   "cell_type": "markdown",
   "metadata": {},
   "source": [
    "## Reference\n",
    "1. http://stanford.edu/~cpiech/cs221/handouts/kmeans.html\n",
    "2. https://mubaris.com/2017/10/01/kmeans-clustering-in-python/\n",
    "3. https://jakevdp.github.io/PythonDataScienceHandbook/05.11-k-means.html"
   ]
  },
  {
   "cell_type": "markdown",
   "metadata": {},
   "source": [
    "## Importing The Data"
   ]
  },
  {
   "cell_type": "code",
   "execution_count": 2,
   "metadata": {},
   "outputs": [
    {
     "name": "stdout",
     "output_type": "stream",
     "text": [
      "Input Data and Shape\n",
      "(3000, 2)\n"
     ]
    },
    {
     "data": {
      "text/html": [
       "<div>\n",
       "<style scoped>\n",
       "    .dataframe tbody tr th:only-of-type {\n",
       "        vertical-align: middle;\n",
       "    }\n",
       "\n",
       "    .dataframe tbody tr th {\n",
       "        vertical-align: top;\n",
       "    }\n",
       "\n",
       "    .dataframe thead th {\n",
       "        text-align: right;\n",
       "    }\n",
       "</style>\n",
       "<table border=\"1\" class=\"dataframe\">\n",
       "  <thead>\n",
       "    <tr style=\"text-align: right;\">\n",
       "      <th></th>\n",
       "      <th>V1</th>\n",
       "      <th>V2</th>\n",
       "    </tr>\n",
       "  </thead>\n",
       "  <tbody>\n",
       "    <tr>\n",
       "      <th>0</th>\n",
       "      <td>2.072345</td>\n",
       "      <td>-3.241693</td>\n",
       "    </tr>\n",
       "    <tr>\n",
       "      <th>1</th>\n",
       "      <td>17.936710</td>\n",
       "      <td>15.784810</td>\n",
       "    </tr>\n",
       "    <tr>\n",
       "      <th>2</th>\n",
       "      <td>1.083576</td>\n",
       "      <td>7.319176</td>\n",
       "    </tr>\n",
       "    <tr>\n",
       "      <th>3</th>\n",
       "      <td>11.120670</td>\n",
       "      <td>14.406780</td>\n",
       "    </tr>\n",
       "    <tr>\n",
       "      <th>4</th>\n",
       "      <td>23.711550</td>\n",
       "      <td>2.557729</td>\n",
       "    </tr>\n",
       "  </tbody>\n",
       "</table>\n",
       "</div>"
      ],
      "text/plain": [
       "          V1         V2\n",
       "0   2.072345  -3.241693\n",
       "1  17.936710  15.784810\n",
       "2   1.083576   7.319176\n",
       "3  11.120670  14.406780\n",
       "4  23.711550   2.557729"
      ]
     },
     "execution_count": 2,
     "metadata": {},
     "output_type": "execute_result"
    }
   ],
   "source": [
    "data_df = pd.read_csv('xclara.csv')\n",
    "print(\"Input Data and Shape\")\n",
    "print(data_df.shape)\n",
    "data_df.head()"
   ]
  },
  {
   "cell_type": "code",
   "execution_count": 3,
   "metadata": {},
   "outputs": [
    {
     "data": {
      "text/plain": [
       "<matplotlib.collections.PathCollection at 0x998b780>"
      ]
     },
     "execution_count": 3,
     "metadata": {},
     "output_type": "execute_result"
    },
    {
     "data": {
      "image/png": "[encoded data removed]",
      "text/plain": [
       "<Figure size 432x288 with 1 Axes>"
      ]
     },
     "metadata": {
      "needs_background": "light"
     },
     "output_type": "display_data"
    }
   ],
   "source": [
    "# Getting the values and plotting it\n",
    "f1 = data_df['V1'].values\n",
    "f2 = data_df['V2'].values\n",
    "X = np.array(list(zip(f1, f2)))\n",
    "plt.scatter(f1, f2, c='black', s=7)"
   ]
  },
  {
   "cell_type": "code",
   "execution_count": 5,
   "metadata": {},
   "outputs": [
    {
     "name": "stderr",
     "output_type": "stream",
     "text": [
      "C:\\Users\\Jiazhen\\Anaconda3\\envs\\py35\\lib\\site-packages\\ipykernel_launcher.py:1: FutureWarning: Method .as_matrix will be removed in a future version. Use .values instead.\n",
      "  \"\"\"Entry point for launching an IPython kernel.\n"
     ]
    },
    {
     "data": {
      "text/plain": [
       "array([[  2.072345,  -3.241693],\n",
       "       [ 17.93671 ,  15.78481 ],\n",
       "       [  1.083576,   7.319176],\n",
       "       ...,\n",
       "       [ 64.46532 , -10.50136 ],\n",
       "       [ 90.72282 , -12.25584 ],\n",
       "       [ 64.87976 , -24.87731 ]])"
      ]
     },
     "execution_count": 5,
     "metadata": {},
     "output_type": "execute_result"
    }
   ],
   "source": [
    "df_matrix = data_df.as_matrix()\n",
    "df_matrix"
   ]
  },
  {
   "cell_type": "markdown",
   "metadata": {},
   "source": [
    "## Create K-Means Algorithm"
   ]
  },
  {
   "cell_type": "code",
   "execution_count": 6,
   "metadata": {},
   "outputs": [
    {
     "ename": "NameError",
     "evalue": "name 'data' is not defined",
     "output_type": "error",
     "traceback": [
      "\u001b[1;31m---------------------------------------------------------------------------\u001b[0m",
      "\u001b[1;31mNameError\u001b[0m                                 Traceback (most recent call last)",
      "\u001b[1;32m<ipython-input-6-f348fc931d6e>\u001b[0m in \u001b[0;36m<module>\u001b[1;34m()\u001b[0m\n\u001b[0;32m      2\u001b[0m \u001b[0mk\u001b[0m \u001b[1;33m=\u001b[0m \u001b[1;36m3\u001b[0m\u001b[1;33m\u001b[0m\u001b[0m\n\u001b[0;32m      3\u001b[0m \u001b[1;31m# Number of training data\u001b[0m\u001b[1;33m\u001b[0m\u001b[1;33m\u001b[0m\u001b[0m\n\u001b[1;32m----> 4\u001b[1;33m \u001b[0mn_datapoint\u001b[0m \u001b[1;33m=\u001b[0m \u001b[0mdata\u001b[0m\u001b[1;33m.\u001b[0m\u001b[0mshape\u001b[0m\u001b[1;33m[\u001b[0m\u001b[1;36m0\u001b[0m\u001b[1;33m]\u001b[0m\u001b[1;33m\u001b[0m\u001b[0m\n\u001b[0m\u001b[0;32m      5\u001b[0m \u001b[1;31m# Number of features in the data\u001b[0m\u001b[1;33m\u001b[0m\u001b[1;33m\u001b[0m\u001b[0m\n\u001b[0;32m      6\u001b[0m \u001b[0mn_features\u001b[0m \u001b[1;33m=\u001b[0m \u001b[0mdata\u001b[0m\u001b[1;33m.\u001b[0m\u001b[0mshape\u001b[0m\u001b[1;33m[\u001b[0m\u001b[1;36m1\u001b[0m\u001b[1;33m]\u001b[0m\u001b[1;33m\u001b[0m\u001b[0m\n",
      "\u001b[1;31mNameError\u001b[0m: name 'data' is not defined"
     ]
    }
   ],
   "source": [
    "# Number of clusters\n",
    "k = 3\n",
    "# Number of training data\n",
    "n_datapoint = data.shape[0]\n",
    "# Number of features in the data\n",
    "n_features = data.shape[1]"
   ]
  },
  {
   "cell_type": "code",
   "execution_count": null,
   "metadata": {},
   "outputs": [],
   "source": [
    "mean = np.mean(df_matrix, axis=0)\n",
    "std = np.std(df_matrix, axis=0)\n",
    "centres = np.random.randn(k, n_features) * std + mean\n",
    "\n",
    "new_centres = deepcopy(centres)\n",
    "old_centres = np.zeros(centres.shape)\n",
    "\n",
    "def dis(a, b, ax=1):\n",
    "    return np.linalg.norm(a - b, axis=ax)\n",
    "\n",
    "def should_stop(old_centres, new_centres, iterations):\n",
    "    if iterations > 300:\n",
    "        return True\n",
    "    return np.linalg.norm(new_centres - old_centres) == 0"
   ]
  },
  {
   "cell_type": "code",
   "execution_count": null,
   "metadata": {},
   "outputs": [],
   "source": [
    "# Plot the data and the centers generated as random\n",
    "plt.scatter(df_matrix[:,0], df_matrix[:,1], s=7)\n",
    "plt.scatter(centres[:,0], centres[:,1], marker='*', c='g', s=150)"
   ]
  },
  {
   "cell_type": "code",
   "execution_count": null,
   "metadata": {},
   "outputs": [],
   "source": [
    "distances = np.zeros((n_datapoint, k))\n",
    "labels = np.zeros(n_datapoint)\n",
    "iterations = 0\n",
    "\n",
    "while not should_stop(old_centres, new_centres, iterations):\n",
    "    for i in range(k):\n",
    "        distances[:, i] = dis(df_matrix, new_centres[i])\n",
    "    labels = np.argmin(distances, axis=1)\n",
    "    old_centres = deepcopy(new_centres)\n",
    "    for i in range(k):\n",
    "        new_centres[i] = np.mean(df_matrix[labels==i], axis=0)"
   ]
  },
  {
   "cell_type": "code",
   "execution_count": null,
   "metadata": {},
   "outputs": [],
   "source": [
    "# Plot the data and the centers generated as random\n",
    "colors=['orange', 'blue', 'green', 'm']\n",
    "for i in range(k):\n",
    "    plt.scatter(df_matrix[labels==i, 0], df_matrix[labels==i,1], s=7, color = colors[i])\n",
    "plt.scatter(new_centres[:,0], new_centres[:,1], marker='*', c='r', s=150)"
   ]
  },
  {
   "cell_type": "code",
   "execution_count": null,
   "metadata": {},
   "outputs": [],
   "source": [
    "def KMeans(data, k):\n",
    "    df_matrix = data.as_matrix()\n",
    "    # Number of training data\n",
    "    n_datapoint = data.shape[0]\n",
    "    # Number of features in the data\n",
    "    n_features = data.shape[1]\n",
    "    mean = np.mean(df_matrix, axis=0)\n",
    "    std = np.std(df_matrix, axis=0)\n",
    "    centres = np.random.randn(k, n_features) * std + mean\n",
    "\n",
    "    new_centres = deepcopy(centres)\n",
    "    old_centres = np.zeros(centres.shape)\n",
    "    \n",
    "    distances = np.zeros((n_datapoint, k))\n",
    "    labels = np.zeros(n_datapoint)\n",
    "    iterations = 0\n",
    "    SSE = 0\n",
    "    while not should_stop(old_centres, new_centres, iterations):\n",
    "        for i in range(k):\n",
    "            distances[:, i] = dis(df_matrix, new_centres[i])\n",
    "        labels = np.argmin(distances, axis=1)\n",
    "        old_centres = deepcopy(new_centres)\n",
    "        for i in range(k):\n",
    "            new_centres[i] = np.mean(df_matrix[labels==i], axis=0)\n",
    "    for i in range(k):\n",
    "        SSE += dis(df_matrix[labels==i], new_centres[i], None)\n",
    "    print(SSE)\n",
    "    return (new_centres, labels, SSE)"
   ]
  },
  {
   "cell_type": "code",
   "execution_count": null,
   "metadata": {},
   "outputs": [],
   "source": [
    "SSE = []\n",
    "for kk in range(1, 9):\n",
    "    a, b, sse = KMeans(data, kk)\n",
    "    SSE.append(sse)"
   ]
  },
  {
   "cell_type": "code",
   "execution_count": null,
   "metadata": {},
   "outputs": [],
   "source": [
    "plt.plot(SSE)"
   ]
  },
  {
   "cell_type": "code",
   "execution_count": null,
   "metadata": {},
   "outputs": [],
   "source": [
    "# class KMeans:\n",
    "#     def __init__(self, n_clusters=2, max_iter=300):\n",
    "#         self.n_clusters = n_clusters\n",
    "#         self.max_iter = 300\n",
    "    \n",
    "#     def fit(self, data):\n",
    "#         # Initialize centroids randomly\n",
    "#         n_datapoint = data.shape[0]\n",
    "#         n_features = data.shape[1]\n",
    "#         centroids = self.get_random_centroids(data, self.n_clusters)\n",
    "#         new_centroids = deepcopy(centroids)\n",
    "#         old_centroids = np.zeros(centers.shape)\n",
    "        \n",
    "#         labels = np.zeros(n_datapoint)\n",
    "#         distances = np.zeros((n_datapoint, self.n_clusters))\n",
    "#         # Initialize book keeping vars.\n",
    "#         iterations = 0\n",
    "        \n",
    "#         # Run the main KMeans algorithm\n",
    "#         while not self.should_stop(old_centroids, new_centroids, iterations):\n",
    "#             # Save old centroids for convergence test. Book keeping.\n",
    "#             old_centroids = new_centroids\n",
    "#             iterations += 1\n",
    "            \n",
    "#             # step 1: calculate distance between data and each centre\n",
    "#             for i in range(self.n_clusters):\n",
    "#                 distances[:, i] =  self.dis(data, new_centroids)\n",
    "            \n",
    "#             # step 2: assign labels to each datapoint distance\n",
    "#             labels = np.argmin(distances, axis = 1)\n",
    "            \n",
    "#             old_centroids = deepcopy(new_centers)\n",
    "#             # step 3: calculate new centres \n",
    "#             for i in range(self.n_clusters):\n",
    "#                 new_centroids[i] = np.mean(data[labels == i], axis=0)\n",
    "        \n",
    "#         return centroids\n",
    "    \n",
    "#     def dis(self, a, b, ax=1):\n",
    "#         return np.linalg.norm(a - b, axis=ax)\n",
    "    \n",
    "#     # Function: Should Stop\n",
    "#     # -------------\n",
    "#     # Returns True or False if k-means is done. K-means terminates either\n",
    "#     # because it has run a maximum number of iterations OR the centroids\n",
    "#     # stop changing.\n",
    "#     def should_stop(self, old_centroids, centroids, iterations):\n",
    "#         if iterations > self.max_iter:\n",
    "#             return True\n",
    "#         return old_centroids == centroids\n",
    "    \n",
    "# #     # Function: Get Labels\n",
    "# #     # -------------\n",
    "# #     # Returns a label for each piece of data in the dataset. \n",
    "# #     def getLabels(self, data_set, centroids):\n",
    "# #         # For each element in the dataset, chose the closest centroid. \n",
    "# #         # Make that centroid the element's label.\n",
    "# #         pass\n",
    "    \n",
    "# #     # Function: Get Centroids\n",
    "# #     # -------------\n",
    "# #     # Returns k random centroids, each of dimension n.\n",
    "# #     def getCentroids(self, data_set, labels, k):\n",
    "# #         # Each centroid is the geometric mean of the points that\n",
    "# #         # have that centroid's label. Important: If a centroid is empty (no points have\n",
    "# #         # that centroid's label) you should randomly re-initialize it.\n",
    "# #         pass"
   ]
  },
  {
   "cell_type": "code",
   "execution_count": null,
   "metadata": {},
   "outputs": [],
   "source": []
  }
 ],
 "metadata": {
  "kernelspec": {
   "display_name": "Python 3",
   "language": "python",
   "name": "python3"
  },
  "language_info": {
   "codemirror_mode": {
    "name": "ipython",
    "version": 3
   },
   "file_extension": ".py",
   "mimetype": "text/x-python",
   "name": "python",
   "nbconvert_exporter": "python",
   "pygments_lexer": "ipython3",
   "version": "3.5.6"
  }
 },
 "nbformat": 4,
 "nbformat_minor": 2
}
